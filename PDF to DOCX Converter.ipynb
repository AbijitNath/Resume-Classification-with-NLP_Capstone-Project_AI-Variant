{
 "cells": [
  {
   "cell_type": "markdown",
   "id": "58b0f690",
   "metadata": {},
   "source": [
    "## PDF to DOCX Converter"
   ]
  },
  {
   "cell_type": "code",
   "execution_count": 1,
   "id": "57cead72",
   "metadata": {},
   "outputs": [],
   "source": [
    "from pdf2docx import Converter\n",
    "import os"
   ]
  },
  {
   "cell_type": "code",
   "execution_count": 2,
   "id": "77d8a8b1",
   "metadata": {},
   "outputs": [],
   "source": [
    "# # # dir_path for input reading and output files & a for loop # # #\n",
    "\n",
    "path_input = r'Resumes\\React JS Developer'\n",
    "path_output = r'Resumes'"
   ]
  },
  {
   "cell_type": "code",
   "execution_count": 3,
   "id": "02112f54",
   "metadata": {},
   "outputs": [
    {
     "name": "stderr",
     "output_type": "stream",
     "text": [
      "[INFO] Start to convert Resumes\\React JS Developer\\React JS Developer_Prabakaran_Musquare.pdf\n",
      "[INFO] \u001b[1;36m[1/4] Opening document...\u001b[0m\n",
      "[INFO] \u001b[1;36m[2/4] Analyzing document...\u001b[0m\n"
     ]
    },
    {
     "name": "stdout",
     "output_type": "stream",
     "text": [
      "React JS Developer_Prabakaran_Musquare\n"
     ]
    },
    {
     "name": "stderr",
     "output_type": "stream",
     "text": [
      "[INFO] \u001b[1;36m[3/4] Parsing pages...\u001b[0m\n",
      "[INFO] (1/2) Page 1\n",
      "[INFO] (2/2) Page 2\n",
      "[INFO] \u001b[1;36m[4/4] Creating pages...\u001b[0m\n",
      "[INFO] (1/2) Page 1\n",
      "[INFO] (2/2) Page 2\n",
      "[INFO] Terminated in 0.65s.\n"
     ]
    }
   ],
   "source": [
    "for file in os.listdir(path_input):\n",
    "    if file.endswith('.pdf'):\n",
    "        final = os.path.join(path_input, file)\n",
    "        cv = Converter(final)\n",
    "        basename = os.path.splitext(file)[0]\n",
    "        print(basename)\n",
    "        cv.convert(path_output + '/' + basename+'.docx', start=0, end=None)\n",
    "        cv.close()\n",
    "\n",
    "# # For Multiple Folder\n",
    "# path_input = 'Resumes\\React JS Developer'\n",
    "# path_output = 'Resumes'\n",
    "# for folder in os.listdir(path_input):\n",
    "#     folder_path = os.path.join(path_input, folder)\n",
    "#     for file in os.listdir(folder_path):\n",
    "#         if file.endswith('.pdf'):\n",
    "#             final_path = os.path.join(folder_path, file)\n",
    "#             cv = Converter(final_path)\n",
    "#             basename = os.path.splitext(file)[0]\n",
    "#             cv.convert(path_output + '/' + folder + '/' + basename+'.docx', start=0, end=None)\n",
    "#             cv.close()"
   ]
  },
  {
   "cell_type": "markdown",
   "id": "bd73eb73",
   "metadata": {},
   "source": [
    "# The End !!"
   ]
  }
 ],
 "metadata": {
  "kernelspec": {
   "display_name": "Python 3 (ipykernel)",
   "language": "python",
   "name": "python3"
  },
  "language_info": {
   "codemirror_mode": {
    "name": "ipython",
    "version": 3
   },
   "file_extension": ".py",
   "mimetype": "text/x-python",
   "name": "python",
   "nbconvert_exporter": "python",
   "pygments_lexer": "ipython3",
   "version": "3.9.13"
  }
 },
 "nbformat": 4,
 "nbformat_minor": 5
}
